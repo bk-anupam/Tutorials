{
 "cells": [
  {
   "cell_type": "markdown",
   "metadata": {},
   "source": [
    "## Table of Contents\n",
    "* [Moving Average](#moving-average)"
   ]
  },
  {
   "cell_type": "markdown",
   "metadata": {},
   "source": [
    "### Moving Average <a id=\"moving-average\"></a>\n",
    "In the context of time series forecasting, a moving average (MA) is a widely used technique to smooth out the noise and fluctuations in a time series data, revealing the underlying patterns and trends. A moving average is calculated by averaging a certain number of consecutive data points, called the \"window size\" or \"order\" of the MA. The average is then plotted at the middle point of the window, creating a new time series that is less volatile than the original data.<br/>\n",
    "\n",
    "Suppose we have a time series: 10, 12, 11, 13, 14, 15 <br/>\n",
    "A 3-period moving average (MA-3) would be calculated as:\n",
    "(10 + 12 + 11) / 3 = 11 (at time step 2) <br/>\n",
    "(12 + 11 + 13) / 3 = 12 (at time step 3) <br>\n",
    "(11 + 13 + 14) / 3 = 12.67 (at time step 4) <br/>\n",
    "(13 + 14 + 15) / 3 = 14 (at time step 5) <br/>\n",
    "The resulting MA-3 time series would be: 11, 12, 12.67, 14 <br/>\n",
    "\n",
    "By smoothing out the data, the moving average helps to:\n",
    "- Reduce noise: Minimize the impact of random fluctuations and outliers.\n",
    "- Reveal trends: Highlight the underlying direction and patterns in the data.\n",
    "- Improve forecasting: Provide a more stable and predictable basis for forecasting future values.\n",
    "\n",
    "Common types of moving averages include:\n",
    "1. Simple Moving Average (SMA)\n",
    "- Definition: The SMA is the unweighted mean of the previous 𝑛 data points.\n",
    "- Exponential Moving Average (EMA)\n",
    "- Weighted Moving Average (WMA)\n",
    "- Centered Moving Average (CMA)"
   ]
  }
 ],
 "metadata": {
  "language_info": {
   "name": "python"
  }
 },
 "nbformat": 4,
 "nbformat_minor": 2
}
