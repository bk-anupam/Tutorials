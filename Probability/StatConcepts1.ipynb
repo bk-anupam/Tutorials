{
 "cells": [
  {
   "cell_type": "markdown",
   "metadata": {},
   "source": [
    "## **1. Null Hypothesis ($H_0$) and Alternative Hypothesis ($H_A$)**  \n",
    "\n",
    "In statistics, **hypothesis testing** is used to determine whether there is enough evidence to reject a given assumption about a population parameter.  \n",
    "\n",
    "- **Null Hypothesis ($H_0$)**: The default assumption that there is **no effect, no difference, or no relationship** in the population.  \n",
    "- **Alternative Hypothesis ($H_A$)**: The claim that there **is an effect, a difference, or a relationship** in the population.  \n",
    "\n",
    "### **Example of Hypotheses in a Medical Study**  \n",
    "Suppose a new drug is tested to see if it lowers blood pressure.  \n",
    "- **$H_0$ (Null Hypothesis):** The new drug has **no effect** on blood pressure.  \n",
    "- **$H_A$ (Alternative Hypothesis):** The new drug **reduces** blood pressure.  \n",
    "\n",
    "If we collect sample data and find strong evidence against $H_0$, we reject it in favor of $H_A$.  \n",
    "\n",
    "## **2. What is a p-value?**  \n",
    "The **p-value** is the probability of observing the sample data (or something more extreme) **if the null hypothesis ($H_0$) were true**.  \n",
    "\n",
    "$$\n",
    "p = P(\\text{observed data} \\mid H_0 \\text{ is true})\n",
    "$$\n",
    "\n",
    "- **Low p-value (e.g., $p < 0.05$)** → Strong evidence against $H_0$, so we **reject $H_0$**.  \n",
    "- **High p-value (e.g., $p > 0.05$)** → Weak evidence against $H_0$, so we **fail to reject $H_0$**.  \n",
    "\n",
    "🔹 **p-value is NOT the probability that $H_0$ is true.** It only tells us how surprising the observed data is under $H_0$.  \n",
    "\n",
    "## **3. Practical Example: Testing a Coin for Fairness**\n",
    "Imagine you have a coin and suspect it is biased towards heads.  \n",
    "\n",
    "- **$H_0$:** The coin is **fair** (i.e., $ P(\\text{Heads}) = 0.5 $).  \n",
    "- **$H_A$:** The coin is **biased** towards heads.  \n",
    "\n",
    "You flip the coin **100 times** and get **70 heads**.  \n",
    "\n",
    "Using a statistical test (like a binomial test), you calculate the **p-value** = **0.002**.  \n",
    "- Since **p-value < 0.05**, you **reject $H_0$** and conclude that the coin is likely biased.  \n",
    "\n",
    "## **4. Common Misconceptions**\n",
    "❌ **p-value is NOT the probability that $H_0$ is true.**  \n",
    "✅ It is the probability of observing the given data (or more extreme) **assuming $H_0$ is true**.  \n",
    "\n",
    "❌ **A p-value > 0.05 does NOT prove $H_0$.**  \n",
    "✅ It just means we **don’t have enough evidence to reject $H_0$**.  \n",
    "\n",
    "## **5. Where are Hypothesis Testing and p-values Used?**\n",
    "- **Medical Research** (Does a drug work better than a placebo?)  \n",
    "- **A/B Testing in Marketing** (Does a new ad increase conversions?)  \n",
    "- **Finance** (Is a stock performing significantly better than the market average?)  \n",
    "- **Manufacturing** (Do two production methods yield the same quality?)  \n",
    "\n",
    "---"
   ]
  }
 ],
 "metadata": {
  "language_info": {
   "name": "python"
  }
 },
 "nbformat": 4,
 "nbformat_minor": 2
}
